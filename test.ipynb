{
 "cells": [
  {
   "cell_type": "code",
   "execution_count": 1,
   "metadata": {},
   "outputs": [
    {
     "data": {
      "text/plain": [
       "True"
      ]
     },
     "execution_count": 1,
     "metadata": {},
     "output_type": "execute_result"
    }
   ],
   "source": [
    "from dotenv import load_dotenv\n",
    "load_dotenv()"
   ]
  },
  {
   "cell_type": "code",
   "execution_count": 2,
   "metadata": {},
   "outputs": [],
   "source": [
    "from langchain.document_loaders import PyPDFLoader\n",
    "def load_pdf_files(files):\n",
    "    # Assuming the provided 'files' list contains URLs\n",
    "    pdf_url = files[0]\n",
    "\n",
    "    # Read PDF content from the URL\n",
    "    pdf_loader = PyPDFLoader(pdf_url)\n",
    "    pages = pdf_loader.load_and_split()\n",
    "\n",
    "    # If there are more files in the list, process them\n",
    "    for i in range(1, len(files)):\n",
    "        pdf_url = files[i]\n",
    "        pdf_loader = PyPDFLoader(pdf_url)\n",
    "        pages += pdf_loader.load_and_split()\n",
    "\n",
    "    return pages"
   ]
  },
  {
   "cell_type": "code",
   "execution_count": 3,
   "metadata": {},
   "outputs": [
    {
     "name": "stdout",
     "output_type": "stream",
     "text": [
      "pages in PDF files:  187\n"
     ]
    }
   ],
   "source": [
    "files=[\"./DataSourceFiles/IPC_186045.pdf\"]\n",
    "pages=load_pdf_files(files)\n",
    "print(\"pages in PDF files: \",len(pages))"
   ]
  },
  {
   "cell_type": "code",
   "execution_count": 41,
   "metadata": {},
   "outputs": [
    {
     "name": "stderr",
     "output_type": "stream",
     "text": [
      "You're using a different task than the one specified in the repository. Be sure to know what you're doing :)\n"
     ]
    },
    {
     "name": "stdout",
     "output_type": "stream",
     "text": [
      "vectore store created\n"
     ]
    }
   ],
   "source": [
    "from langchain.vectorstores import FAISS\n",
    "from langchain.embeddings import  HuggingFaceInstructEmbeddings,HuggingFaceHubEmbeddings,HuggingFaceEmbeddings\n",
    "\n",
    "# HFIembeddings = HuggingFaceInstructEmbeddings(model_name=\"WhereIsAI/UAE-Large-V1\")    \n",
    "HFIembeddings = HuggingFaceHubEmbeddings(repo_id=\"sentence-transformers/all-mpnet-base-v2\")\n",
    "# HFIembeddings = HuggingFaceHubEmbeddings(repo_id=\"sentence-transformers/paraphrase-MiniLM-L6-v2\")\n",
    "# HFIembeddings = HuggingFaceInstructEmbeddings(model_name=\"thenlper/gte-small\",cache_folder=\"./Models/\")\n",
    "# HFIembeddings =HuggingFaceEmbeddings(model_name=\"sentence-transformers/all-mpnet-base-v2\")\n",
    "vectorstore = FAISS.from_documents(pages,embedding=HFIembeddings)\n",
    "print(\"vectore store created\")"
   ]
  },
  {
   "cell_type": "code",
   "execution_count": 48,
   "metadata": {},
   "outputs": [],
   "source": [
    "# from langchain.vectorstores import Chroma\n",
    "# from langchain_community.embeddings.sentence_transformer import SentenceTransformerEmbeddings\n",
    "\n",
    "# embedding_function = SentenceTransformerEmbeddings(model_name=\"gte-small\") #,cache_folder=\"./Models/\")\n",
    "# vectorstore = Chroma.from_documents(documents=pages,embedding=embedding_function,collection_name=\"law_collection\")"
   ]
  },
  {
   "cell_type": "code",
   "execution_count": 49,
   "metadata": {},
   "outputs": [],
   "source": [
    "from langchain.prompts import PromptTemplate\n",
    "template = \"\"\"\n",
    "  You'r helpful AI assisant given the task to help people seeking law advise.\n",
    "  You have to help person to use the Indian laws in legal manner.\n",
    "  Answer in step by step in points by highlighting the sections of indian laws & constitution.\n",
    "  Refuse to answer if it is not helping in legal affairs, also donot concoat anything.\n",
    "{context}\n",
    "\n",
    "\n",
    "Question: {question}  including section number and all related details.\n",
    "Answer:\"\"\"\n",
    "\n",
    "prompt = PromptTemplate(template=template, input_variables=[\"context\", \"question\"])"
   ]
  },
  {
   "cell_type": "code",
   "execution_count": 51,
   "metadata": {},
   "outputs": [],
   "source": [
    "\n",
    "from langchain.chains import RetrievalQA\n",
    "from langchain.llms import HuggingFaceHub\n",
    "chain = RetrievalQA.from_chain_type(\n",
    "    llm = HuggingFaceHub(repo_id=\"mistralai/Mixtral-8x7B-Instruct-v0.1\", model_kwargs={\"temperature\":0.8, \"max_length\":4096,\"max_new_tokens\":4096}),\n",
    "    chain_type=\"stuff\",\n",
    "    retriever=vectorstore.as_retriever(search_kwargs={\"k\": 5}),    \n",
    "    # return_source_documents=True,\n",
    "    chain_type_kwargs={\"prompt\": prompt,\"verbose\": True},\n",
    ")"
   ]
  },
  {
   "cell_type": "code",
   "execution_count": 59,
   "metadata": {},
   "outputs": [
    {
     "name": "stdout",
     "output_type": "stream",
     "text": [
      "\n",
      "\n",
      "\u001b[1m> Entering new StuffDocumentsChain chain...\u001b[0m\n",
      "\n",
      "\n",
      "\u001b[1m> Entering new LLMChain chain...\u001b[0m\n",
      "Prompt after formatting:\n",
      "\u001b[32;1m\u001b[1;3m\n",
      "  You'r helpful AI assisant given the task to help people seeking law advise.\n",
      "  You have to help person to use the Indian laws in legal manner.\n",
      "  Answer in step by step in points by highlighting the sections of indian laws & constitution.\n",
      "  Refuse to answer if it is not helping in legal affairs, also donot concoat anything.\n",
      "111 \n",
      " 504. Intentional insult with intent to provoke breach of the peace .—Whoever intentionally \n",
      "insults, and thereby gives provocation to any person, intending or knowing it to be likely that such \n",
      "provocation will cause him to break the public peace, or to commit any other offence, shall be punished \n",
      "with imprisonment of either description for a term which may extend to two yea rs, or with fine, or with \n",
      "both.  \n",
      "1[505. Stateme nts conducing  to public mischief .—2[(1)] Whoever makes, publishes or  circulates \n",
      "any statement, rumour o r report, — \n",
      "(a) with intent to cause, or which is likely to  cause, any officer, soldier, 3[sailor or airman] in the \n",
      "Army, 4[Navy or Air Force] 5[of India] to mutiny or otherwise disregard or fail in his duty as such; or  \n",
      "(b) with intent to cause, or which is likely to cause, fear or alarm to the public, or to any section \n",
      "of the public whereby any person may be induced to commit an offence against the State or aga inst \n",
      "the public tranquility; or  \n",
      "(c) with intent to incite, or which is likely to incite, any class or community of persons to commit \n",
      "any offence agains t any other class or community,  \n",
      "shall be punished with imp risonment which may extend to 6[three years], or with fine, or with both.  \n",
      "7[(2) Statements creating or promoting enmity, hatred  or ill -will between classes .—Whoever \n",
      "makes, publishes or circulates any statement or report containing rumour or alarming news with intent to \n",
      "create or promote, or which is likely to create or promote, on grounds of religion, race,  place of birth, \n",
      "residence, language, caste or community or any other ground whatsoever, feelings of enmity, hatred or ill -\n",
      "will between different religious, racial, language or regional groups or castes or communities, shall be \n",
      "punished with imprisonment w hich may extend to three yea rs, or with fine, or with both.  \n",
      "(3) Offence under sub -section ( 2) commi tted in place of worship, etc .—Whoever commits an \n",
      "offence specified in sub -section ( 2) in any place of worship or in any assembly engaged in the \n",
      "performance of religious worship or religious ceremonies, shall be punished with imprisonment which \n",
      "may extend to five years and  shall also be liable to fine.]  \n",
      "Exception .—It does not amount to an offence, within the meaning of this section, when the person \n",
      "making, pub lishing or circulating any such statement, rumour or report, has reasonable grounds for \n",
      "believing that such statement, rumour or report is true and makes, publishes or circulates it 2[in good faith \n",
      "and] without  any such intent as aforesaid.]  \n",
      "506. Punishment for criminal intimidation .—Whoever commits the offence of criminal \n",
      "intimidation shall be punished with imprisonment of either description for a term which may extend to \n",
      "two yea rs, or with fine, or with both;  \n",
      "If threat be to cause  death or grievo us hurt, etc .—and if the threat be to cause death or grievous \n",
      "hurt, or to cause the destruction of any property by fire, or to cause an off ence punishable with death or \n",
      "8[imprisonment for life], o r with imprisonment for a term which may extend to seven yea rs, or to impute \n",
      "unchastity to a woman, shall be punished with imprisonment of either description for a term which may \n",
      "extend to seven yea rs, or with fine, or with both.  \n",
      "507. Criminal intimidation b y an anonymous communication .—Whoever commits the offence of \n",
      "criminal intimidation by an anonymous communication, or having taken precaution to conceal the name \n",
      "or abode of the person from whom the threat comes, shall be punished with imprisonment of either \n",
      "description for a term which may extend to two years, in  addition to the punishment provided for the \n",
      "offence  by the last preceding section.  \n",
      "                                                           \n",
      "1. Subs. by Act 4 of 1898, s. 6, for s. 505.  \n",
      "2. Section 505 re -numbered as sub -section ( 1) of that section by Act 35 of 1969, s. 3.  \n",
      "3. Subs. by Act 10 of 1927, s. 2 and the First Sch., for “or sailor”.\n",
      "\n",
      "109 \n",
      " (c) A draws a picture of Z running away with B's watch, intending it to be believed that Z stole B's watch. This is \n",
      "defamation, unless it fal l within one of the exceptions.  \n",
      "First Exceptio n.—Imputation of truth which public good requires to be made or published .—It \n",
      "is not defamation to impute anything which is true concerning any person, if it be for the public good that \n",
      "the imputation should be made or published. Whether or not it is for the pub lic good is a question of fact.  \n",
      "Second Exception .—Public conduct of public servants .—It is not defamation to express in good \n",
      "faith any opinion whatever respecting the conduct of a public servant in the discharge of his public \n",
      "functions, or respecting his character, so far as his character appears i n that conduct, and no further.  \n",
      "Third Exception .—Conduct of any person  touching any public question .—It is not defamation to \n",
      "express in good faith any opinion whatever respecting the conduct of any person touching any public \n",
      "question, and respecti ng his character, so far as his character appears in that conduct, and no further.  \n",
      "Illustration  \n",
      "It is not defamation in A to express in good faith any opinion whatever resepting Z's conduct in petitioning Government on a \n",
      "public question, in signing a requisition for a meeting on a public question, in presiding or attending at such meeting, in f orming  \n",
      "or joining any society which invites the public support, in voting or canvassing for a particular candidate for any situation  in the \n",
      "efficient discharge of the duties of which the public is interested.  \n",
      "Fourth Exception .—Publication of reports of proceedin gs of courts .—It is not defamation to \n",
      "publish substantially true report of the proceedings of a Court of Justice, or of the result of any such \n",
      "proceedings.  \n",
      "Explanation .—A Justice of the Peace or other officer holding an enquiry in open Court preliminary to  \n",
      "a trial in a Court of Justice, is a Court within th e meaning of the above section.  \n",
      "Fifth Exception .—Merits of case decided in Court or conduct of witnesses and others \n",
      "concerned .—It is not defamation to express in good faith any opinion whatever respecting  the merits of \n",
      "any case, civil or criminal, which has been decided by a Court of Justice, or respecting the conduct of any \n",
      "person as a party, witness or agent, in any such case, or respecting the character of such person, as far as \n",
      "his character appears i n that conduct, and no further.  \n",
      "  Illustrations  \n",
      "(a) A says —“I think Z's evidence on that trial is so contradictory that he must be stupid or dishonest. ” A is within this \n",
      "exception if he says this in good faith, inasmuch as the opinion which he expresses respects Z's character as it appears in Z 's \n",
      "conduc t as a witness, and no farther.  \n",
      "(b) But if A says —“I do not believe what Z asserted at that trial becaus e I know him to be a man without veracity ”; A is not \n",
      "within this exception, inasmuch  as the opinion which express of Z's character, is an opinion not found ed on Z's conduct as a \n",
      "witness.  \n",
      "Sixth Exception .—Merits of public performance .—It is not defamation to express in good faith any \n",
      "opinion respecting the merits of any performance which its author has submitted to the judgment of the \n",
      "public, or respecting the character of the author so far as his character appears in such performance, and  \n",
      "no fu rther.  \n",
      "Expla nation .—A performance may be submitted to the judgment of the public expressly or by acts on \n",
      "the part of the author which imply such submission  to the judgment of the public.  \n",
      "Illustrations  \n",
      "(a) A person who publishes a book, submits that book  to the judgment of the public.  \n",
      "(b) A person who makes a speech in public, submits that speech  to the judgment of the public.  \n",
      "(c) An actor or singer who appears on a public stage, submits his acting or singing to the judgment of the public.  \n",
      "(d) A says of a  book published by Z —“Z’s book is foolish; Z must be a weak man. Z's book is indecent; Z must be a man\n",
      "\n",
      "14 \n",
      " SECTIONS  \n",
      "506. Punishment for criminal intimidation.  \n",
      "If threat be to cause death or grievous hurt, etc.  \n",
      "507. Criminal intimidation by an anonymous communication.  \n",
      "508. Act caused by inducing person to believe that he will be rendered an object of the Divine displeasure.  \n",
      "509. Word, gesture or act intended to insult the modesty of a woman.  \n",
      "510. Misconduct in public by a drunken person.  \n",
      "CHAPTER XXIII  \n",
      "OF ATTEMPTS OF  COMMIT  OFFENCES  \n",
      "511. Punishment for attempting to commit offences punishable with imprisonment for life or other \n",
      "imprisonment .\n",
      "\n",
      "(d) A says of a  book published by Z —“Z’s book is foolish; Z must be a weak man. Z's book is indecent; Z must be a man \n",
      "of impure mind. ” A is within the exception, if he says this in good faith, inasmuch as the opinion which he expresses of Z \n",
      "respects Z's character only so  far as it appea rs in Z's book, and no further.  \n",
      "(e) But if A says “I am not surprised that Z's book is foolish and indecent, for he is a weak man and a libertine. ” A is not \n",
      "within this exception, inasmuch as the opinion which he expresses of Z's character is an opinion not founde d on Z's book.  \n",
      "Seventh Exception .—Censure passed in good faith by person having  lawful authority over \n",
      "another .—It is not defamation in a person having over another any authority, either conferred by law or\n",
      "\n",
      "threat,  commits criminal intimidation.  \n",
      "Explanation .—A threat to injure the reputation of any deceased person in whom the person threatened \n",
      "is inte rested, is within this section.  \n",
      "Illustration  \n",
      "A, for the purpose of inducing B to resist from prosecuting a civil suit, threatens to burn B's house. A is g uilty o f criminal \n",
      "intimidation.\n",
      "\n",
      "\n",
      "Question: one person has commited defamation, what should be punishment for it?  including section number and all related details.\n",
      "Answer:\u001b[0m\n",
      "\n",
      "\u001b[1m> Finished chain.\u001b[0m\n",
      "\n",
      "\u001b[1m> Finished chain.\u001b[0m\n",
      "Document './tmp/2024-01-27_23_35_25.docx' generated successfully.\n"
     ]
    }
   ],
   "source": [
    "# q=\"what is the punishment for robbery ?\"\n",
    "# q=\"who is judge ?\"\n",
    "q=\"one person has commited defamation, what should be punishment for it?\"\n",
    "# q=\"rioting has happened in neighbouring society. who will be responsible and what is the punishment for it\"\n",
    "# q=\"what is punishment for robbery and also murder ?\"\n",
    "# q=\"what are the rights of tenant and landlord ?\"\n",
    "# q=\"what is biscuit ?\"\n",
    "# q=\"person is selling adulterated drugs which is harmful to the health of people. person has also sold drug to the children below age of 15 what will be punishment for it?\"\n",
    "# q+=\" with section number. add all details.\"\n",
    "# q+=\" including section number and all related details.\"\n",
    "response = chain({\"query\":q, \"early_stopping\":True,\"min_length\":2000,\"max_tokens\":5000})\n",
    "# print(response)\n",
    "from write_in_file import generate_docx_with_bullets\n",
    "from data_extracter import extract_data_from_response\n",
    "# result,src_data,src_pg_nms=extract_data_from_response(response)\n",
    "# generate_docx_with_bullets(heading=q,main_paragraph=response[\"result\"],srcs=src_pg_nms,output_folder=\"./tmp/\")\n",
    "generate_docx_with_bullets(heading=q,main_paragraph=response[\"result\"],output_folder=\"./tmp/\")"
   ]
  },
  {
   "cell_type": "code",
   "execution_count": null,
   "metadata": {},
   "outputs": [],
   "source": []
  },
  {
   "cell_type": "code",
   "execution_count": null,
   "metadata": {},
   "outputs": [],
   "source": [
    "# def write_in_notepad(response):\n",
    "#     from write_in_file import open_in_notepad\n",
    "#     open_in_notepad(response[\"result\"])\n",
    "\n",
    "\n"
   ]
  }
 ],
 "metadata": {
  "kernelspec": {
   "display_name": "venv",
   "language": "python",
   "name": "python3"
  },
  "language_info": {
   "codemirror_mode": {
    "name": "ipython",
    "version": 3
   },
   "file_extension": ".py",
   "mimetype": "text/x-python",
   "name": "python",
   "nbconvert_exporter": "python",
   "pygments_lexer": "ipython3",
   "version": "3.9.13"
  }
 },
 "nbformat": 4,
 "nbformat_minor": 2
}
