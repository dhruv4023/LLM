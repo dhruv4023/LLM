{
 "cells": [
  {
   "cell_type": "code",
   "execution_count": 1,
   "metadata": {},
   "outputs": [
    {
     "data": {
      "text/plain": [
       "True"
      ]
     },
     "execution_count": 1,
     "metadata": {},
     "output_type": "execute_result"
    }
   ],
   "source": [
    "from dotenv import load_dotenv\n",
    "load_dotenv()"
   ]
  },
  {
   "cell_type": "code",
   "execution_count": 2,
   "metadata": {},
   "outputs": [],
   "source": [
    "from langchain.document_loaders import PyPDFLoader\n",
    "def load_pdf_files(files):\n",
    "    # Assuming the provided 'files' list contains URLs\n",
    "    pdf_url = files[0]\n",
    "\n",
    "    # Read PDF content from the URL\n",
    "    pdf_loader = PyPDFLoader(pdf_url)\n",
    "    docs = pdf_loader.load_and_split()\n",
    "\n",
    "    # If there are more files in the list, process them\n",
    "    for i in range(1, len(files)):\n",
    "        pdf_url = files[i]\n",
    "        pdf_loader = PyPDFLoader(pdf_url)\n",
    "        docs += pdf_loader.load_and_split()\n",
    "\n",
    "    return docs"
   ]
  },
  {
   "cell_type": "code",
   "execution_count": 3,
   "metadata": {},
   "outputs": [
    {
     "name": "stdout",
     "output_type": "stream",
     "text": [
      "docs in PDF files:  298\n"
     ]
    }
   ],
   "source": [
    "# files=[\"./DataSourceFiles/IPC_186045.pdf\"]\n",
    "files=[\"D:/Files/LLM/Project/DataSourceFiles/IPC_186045.pdf\",\"D:\\Files\\LLM\\Src_docs\\special_marriage_act.pdf\",\"D:\\Files\\LLM\\Src_docs\\THE_CODE_OF_CIVIL_PROCEDURE_1908.pdf\",\"D:\\Files\\LLM\\Src_docs\\THE_LAND_ACQUISITION_ACT.pdf\"]\n",
    "docs=load_pdf_files(files)\n",
    "print(\"docs in PDF files: \",len(docs))"
   ]
  },
  {
   "cell_type": "code",
   "execution_count": 4,
   "metadata": {},
   "outputs": [],
   "source": [
    "# from langchain.text_splitter import RecursiveCharacterTextSplitter\n",
    "\n",
    "# def split_docs(documents,chunk_size=1000,chunk_overlap=20):\n",
    "#   text_splitter = RecursiveCharacterTextSplitter(chunk_size=chunk_size, chunk_overlap=chunk_overlap)\n",
    "#   docs = text_splitter.split_documents(documents)\n",
    "#   return docs\n",
    "\n",
    "# splited_docs = split_docs(docs)\n",
    "# print(len(splited_docs))\n"
   ]
  },
  {
   "cell_type": "code",
   "execution_count": 5,
   "metadata": {},
   "outputs": [
    {
     "name": "stderr",
     "output_type": "stream",
     "text": [
      "You're using a different task than the one specified in the repository. Be sure to know what you're doing :)\n"
     ]
    },
    {
     "name": "stdout",
     "output_type": "stream",
     "text": [
      "vectore store created\n"
     ]
    }
   ],
   "source": [
    "from langchain.vectorstores import FAISS\n",
    "from langchain.embeddings import  HuggingFaceInstructEmbeddings,HuggingFaceHubEmbeddings,HuggingFaceEmbeddings\n",
    "\n",
    "# HFIembeddings = HuggingFaceInstructEmbeddings(model_name=\"WhereIsAI/UAE-Large-V1\")    \n",
    "# HFIembeddings = HuggingFaceHubEmbeddings(repo_id=\"sentence-transformers/all-mpnet-base-v2\")\n",
    "HFIembeddings = HuggingFaceHubEmbeddings(repo_id=\"sentence-transformers/all-MiniLM-L6-v2\")\n",
    "# HFIembeddings = HuggingFaceInstructEmbeddings(model_name=\"thenlper/gte-small\",cache_folder=\"./Models/\")\n",
    "# HFIembeddings = HuggingFaceEmbeddings(model_name=\"D:\\Files\\LLM\\Project\\Models\\sentence-transformers_all-MiniLM-L6-v2\",cache_folder=\"./Models/\")\n",
    "vectorstore = FAISS.from_documents(docs,embedding=HFIembeddings)\n",
    "print(\"vectore store created\")"
   ]
  },
  {
   "cell_type": "code",
   "execution_count": 6,
   "metadata": {},
   "outputs": [],
   "source": [
    "# from langchain.embeddings import SentenceTransformerEmbeddings\n",
    "# embeddings = SentenceTransformerEmbeddings(\n",
    "#     model_name=\"D:\\Files\\LLM\\Project\\Models\\sentence-transformers_all-MiniLM-L6-v2\",\n",
    "#     model_kwargs={'device': 'cuda'},\n",
    "#     encode_kwargs={'normalize_embeddings': True},\n",
    "#     # query_instruction=\"Represent this sentence for searching relevant passages: \"\n",
    "# )\n",
    "\n",
    "# from langchain.vectorstores import Chroma\n",
    "# vectorstore = Chroma.from_documents(splited_docs, embeddings)"
   ]
  },
  {
   "cell_type": "code",
   "execution_count": 7,
   "metadata": {},
   "outputs": [],
   "source": [
    "# from langchain.vectorstores import Chroma\n",
    "# # from langchain_community.embeddings.sentence_transformer import SentenceTransformerEmbeddings\n",
    "# # from langchain.embeddings import  HuggingFaceInstructEmbeddings,HuggingFaceHubEmbeddings,HuggingFaceEmbeddings\n",
    "\n",
    "# from chromadb.utils.embedding_functions import SentenceTransformerEmbeddingFunction\n",
    "# from sentence_transformers import SentenceTransformer\n",
    "# # model = SentenceTransformer(model_name_or_path=\"sentence-transformers/all-MiniLM-L6-v2\",cache_folder=\"./Models/\")\n",
    "# sentence_transformer_ef = SentenceTransformerEmbeddingFunction(model_name=\"D:\\Files\\LLM\\Project\\Models\\sentence-transformers_all-MiniLM-L6-v2\")\n",
    "# # # HFIembeddings = HuggingFaceHubEmbeddings(repo_id=\"sentence-transformers/all-mpnet-base-v2\")\n",
    "# # # # embedding_function = SentenceTransformerEmbeddings(model_name=\"gte-small\") #,cache_folder=\"./Models/\")\n",
    "# # print((sentence_transformer_ef))\n",
    "# vectorstore = Chroma.from_documents(documents=pages,embedding=sentence_transformer_ef,collection_name=\"law_collection\")"
   ]
  },
  {
   "cell_type": "code",
   "execution_count": 8,
   "metadata": {},
   "outputs": [],
   "source": [
    "from langchain.prompts import PromptTemplate\n",
    "template = \"\"\"\n",
    "  You'r helpful AI assisant given the task to help people seeking law advise.\n",
    "  You have to help person to use the Indian laws in legal manner.\n",
    "  Answer in step by step in points by highlighting the sections of indian laws & constitution.\n",
    "  Refuse to answer if it is not helping in legal affairs, also donot concoat anything.\n",
    "{context}\n",
    "\n",
    "\n",
    "Question: {question}  including section number and all related details.\n",
    "Answer:\"\"\"\n",
    "\n",
    "prompt = PromptTemplate(template=template, input_variables=[\"context\", \"question\"])"
   ]
  },
  {
   "cell_type": "code",
   "execution_count": 9,
   "metadata": {},
   "outputs": [],
   "source": [
    "\n",
    "from langchain.chains import RetrievalQA\n",
    "from langchain.llms import HuggingFaceHub\n",
    "chain = RetrievalQA.from_chain_type(\n",
    "    llm = HuggingFaceHub(repo_id=\"mistralai/Mixtral-8x7B-Instruct-v0.1\", model_kwargs={\"temperature\":0.8, \"max_length\":4096,\"max_new_tokens\":4096}),\n",
    "    chain_type=\"stuff\",\n",
    "    retriever=vectorstore.as_retriever(search_kwargs={\"k\": 5}),    \n",
    "    # return_source_documents=True,\n",
    "    chain_type_kwargs={\"prompt\": prompt,\"verbose\": True},\n",
    ")"
   ]
  },
  {
   "cell_type": "code",
   "execution_count": 10,
   "metadata": {},
   "outputs": [
    {
     "name": "stdout",
     "output_type": "stream",
     "text": [
      "\n",
      "\n",
      "\u001b[1m> Entering new StuffDocumentsChain chain...\u001b[0m\n",
      "\n",
      "\n",
      "\u001b[1m> Entering new LLMChain chain...\u001b[0m\n",
      "Prompt after formatting:\n",
      "\u001b[32;1m\u001b[1;3m\n",
      "  You'r helpful AI assisant given the task to help people seeking law advise.\n",
      "  You have to help person to use the Indian laws in legal manner.\n",
      "  Answer in step by step in points by highlighting the sections of indian laws & constitution.\n",
      "  Refuse to answer if it is not helping in legal affairs, also donot concoat anything.\n",
      "43 \n",
      " and do not, in the case of his or their having reason to believe that it was about to be committed, use all \n",
      "lawful means in his or their power to prevent i t and, in the event of its taking place, do not use all lawful \n",
      "means in his or their power to disperse or suppress  the riot or unlawful assembly.  \n",
      "155. Liability of person for who se benefit riot is committed .—Whenever a riot is committed for \n",
      "the benefit or on behalf of any person who is the owner or occupier of any land respecting which such riot \n",
      "takes place or who claims any interest in such land, or in the subject of any dispute which gave rise to the \n",
      "riot, or who has accepted or derived any benefit theref rom, such person shall be punishable with fine, if \n",
      "he or his agent or manager, having reason to believe that such riot was likely to be committed or that the \n",
      "unlawful assembly by which such riot was committed was likely to be held, shall not respectively u se all \n",
      "lawful means in his or their power to prevent such assembly or riot from taking place, and for suppr essing \n",
      "and dispersing the same.  \n",
      "156. Liability of agent of owner or occupier for wh ose benefit riot is committed .—Whenever a \n",
      "riot is committed for th e benefit or on behalf of any person who is the owner or occupier of any land \n",
      "respecting which such riot takes place, or who claims any interest in such land, or in the subject of any \n",
      "dispute which gave rise to the riot, or who has accepted or  derived any benefit therefrom,  \n",
      "the agent or manager of such person shall be punishable with fine, if such agent or manager, having \n",
      "reason to believe that such riot was likely to be committed, or that the unlawful assembly by which such \n",
      "riot was committed was likely to  be held, shall not use all lawful means in his power to prevent such riot \n",
      "or assembly from taking place and for suppr essing and dispersing the same.  \n",
      "157. Harbouring persons h ired for an unlawful assembly .—Whoever harbours, receives or \n",
      "assembles, in any ho use or premises in his occupation or charge, or under his control any persons \n",
      "knowing that such persons have been hired, engaged or employed, or are about to be hired, engaged or \n",
      "employed, to join or become members of an unlawful assembly, shall be punishe d with imprisonment of \n",
      "either description for a term which may extend to six mont hs, or with fine, or with both.  \n",
      "158. Being hired to take part in an unlawful assembly or riot .—Whoever is engaged, or hired, or \n",
      "offers or attempts to be hired or engaged, to do or assist in doing any of the acts specified in section 141, \n",
      "shall be punished with imprisonment of either description for a term which may extend to six mont hs, or \n",
      "with fine, or with both,  \n",
      "or to go armed .—and whoever, being so engaged or hired as afore said, goes armed, or engages or \n",
      "offers to go armed, with any deadly weapon or with anything which used as a weapon of offence is likely \n",
      "to cause death, shall be punished with imprisonment of either description for a term which may extend to \n",
      "two yea rs, or w ith fine, or with both.  \n",
      "159. Affray .—When two or more persons, by fighting in a public place, disturb the public peace, they \n",
      "are said to “commit an affray ”. \n",
      "160. Pun ishment for committing affray .—Whoever commits an affray, shall be punished with \n",
      "imprisonment of either description for a term which may extend to one month, or with fine which may \n",
      "extend to on e hundred rupees, or with both.  \n",
      "CHAPTER IX  \n",
      "OFOFFENCES BY  OR RELATING TO  PUBLIC  SERVANTS  \n",
      "161 to 165A . Rep. by the Prevention of Corruption  Act, 1988  (49 of 1988 ), s. 31. \n",
      "166. Public servant disobeying law, with intent to cause injury to any per son.—Whoever, being a \n",
      "public servant, knowingly disobeys any direction of the law as to the way in which he is to conduct \n",
      "himself as such public servant, intending to cause, or knowin g it to be likely that he will by such \n",
      "disobedience, cause injury to any person, shall be punished with simple imprisonment for a term which\n",
      "\n",
      "imprisonment which may extend to five years an d shall also be liable to fine .] \n",
      "154. Owner or occupier of land on which  an unlawful assembly is held .—Whenever any unlawful \n",
      "assembly or riot takes place, the owner or occupier of the land upon which such unlawful assembly is \n",
      "held, or such riot is committed, and any person having or claiming a n interest in such land, shall be \n",
      "punishable with fine not exceeding one thousand rupees, if he or his agent or manager, knowing that such \n",
      "offence is being or has been committed, or having reason to believe it is likely to be committed, do not \n",
      "give the ear liest notice thereof in his or their power to the principal officer at the nearest police -station,    \n",
      "                                                           \n",
      "1. Ins. by Act 31 of 1972, s. 2.  \n",
      "2. Ins. by Act 2 5 of 2005, s. 44 (w.e.f. 23 -6-2005).\n",
      "\n",
      "41 \n",
      " 145. Joining or continuing in unlawful assembly, knowing it h as been commanded to \n",
      "disperse .—Whoever joins or continues in an unla wful assembly, knowing that such unlawful assembly \n",
      "has been commanded in the manner prescribed by law to disperse, shall be punished with imprisonment \n",
      "of either description for a term which may extent to two yea rs, or with fine, or with both.  \n",
      "146. Rioting .—Whenever force or violence is used by an unlawful assembly, or by any member \n",
      "thereof, in prosecution of the common object of such assembly, every member of such assembly is gu ilty \n",
      "of the offence of rioting.  \n",
      "147. Punishment for rioting .—Whoever is guilty o f rioting, shall be punished with imprisonment of \n",
      "either description for a term which may extend to two years, or with fine, or with both.  \n",
      "148. Riot ing, armed with deadly weapon .—Whoever is guilty of rioting, being armed with a deadly \n",
      "weapon or with anything which, used as a weapon of offence, is likely to cause death, shall be punished \n",
      "with imprisonment of either description for a term which may extend to three yea rs, or with fine, or with \n",
      "both.  \n",
      "149. Every member of unlawful assembly guilty of offenc e committed in  prosecution of common \n",
      "object .—If an offence is committed by any member of an unlawful assembly in prosecution of the \n",
      "common object of that assembly, or such as the members of that assembly knew to be likely to be \n",
      "committed in prosecution of that object, every person who, at the time of the committing of that offence, \n",
      "is a member of the same assembly, is gu ilty of that offence.  \n",
      "150. Hiring, or conniving at hiring, of pers ons to join unlawful assembly .—Whoe ver hires or \n",
      "engages, or employ s, or p romotes, or connives at the hiring, engagement or employment of any person to \n",
      "join or become a member of any unlawful assembly, shall be punishable as a member of such unlawful \n",
      "assembly, and for any offence which may be committed by any such person as a me mber of such \n",
      "unlawful assembly in pursuance of such hiring, engagement or employment, in the same manner as if he \n",
      "had been a member of such unlawful assembly, or hims elf had committed such offence.  \n",
      "151. Knowingly joining or continuing in assembly of five or more persons after it h as been \n",
      "commanded to disperse .—Whoever knowingly joins or continues in any assembly of five or more \n",
      "persons likely to cause a disturbance of the public peace, after such assembly has been lawfully \n",
      "commanded to disperse, shall be p unished with imprisonment of either description for a term which may \n",
      "extend to six mont hs, or with fine, or with both.  \n",
      "Explanation .—If the assembly is an unlawful assembly within the meaning of section 141, the \n",
      "offender will b e punishable under section 145 . \n",
      "152. Assaulting or obstructing public serva nt when suppressing riot, etc .—Whoever assaults or \n",
      "threatens to assault, or obstructs or attempts to obstruct, any public servant in the discharge of his duty as \n",
      "such public servant, in endeavouring to disperse an unlawful assembly, or to suppress a riot or affray, or \n",
      "uses, or threatens , or attempts to use criminal force to such public servant, shall be punished with \n",
      "imprisonment of either description for a term which may extend to three years, or with fine, or with both.  \n",
      "153. Want only giving provoca tion with intent to cause riot —if rioting be committed; if not \n",
      "committed. —Whoever malignantly, or wantonly by doing anything which is illegal, gives provocation to \n",
      "any person intending or knowing it to be likely that such provocation will cause the offence of rioting to \n",
      "be committed, shall, i f the offence of rioting be committed in consequence of such provocation, be \n",
      "punished with imprisonment of either description for a term which may extend to one ye ar, or with fine, \n",
      "or with both; and if the offence of rioting be not committed, with imprison ment of either description for a \n",
      "term which may extend to six mont hs, or with fine, or with both.\n",
      "\n",
      "or with both; and if the offence of rioting be not committed, with imprison ment of either description for a \n",
      "term which may extend to six mont hs, or with fine, or with both.  \n",
      "1[153A. Promoting enmity between different groups on ground of religion, race, place of birth, \n",
      "residence, language, etc., and doing acts prejudicial to maintenance  of harmony .—(1) Whoever — \n",
      "(a) by words, either spoken or written, or by signs or by visible representations or otherwise, \n",
      "promotes or attempts to promote, on grounds of religion, race, place of birth, residence, language, \n",
      "caste or community or a ny other ground whatsoever, disharmony or feelings of enmity, hatred or ill -\n",
      "will between different religious, racials, language or regional grou ps or castes or communities, or  \n",
      "                                                           \n",
      "1. Subs. by Act 35 of 19 69, s. 2, for section 153A.\n",
      "\n",
      "50 \n",
      " and if such disobedience causes or tends to cause  danger to human life, health or safety, or causes or \n",
      "tends to cause a riot or affray, shall be punished with imprisonment of either description for a term which \n",
      "may extend to six months, or with fine which may extend to one thousand rupees, or with both.  \n",
      "Explanation .—It is not necessary that the offender should intend to produce harm, or contemplate his \n",
      "disobedience as likely to produce harm. It is sufficient that he knows of the order which he disobeys, and \n",
      "that his disobedience produces,  or is likely to produce, harm.  \n",
      "Illustration  \n",
      "An order is promulgated by a public servant lawfully empowered to promulgate  such order, directing that a religious \n",
      "procession shall not pass down a certain street. A knowingly disobeys the order, and thereby causes danger of ri ot. A has \n",
      "committed the o ffence defined in this section.  \n",
      "189. Threa t of injury to public servant .—Whoever holds out any threat of injury to any public \n",
      "servant, or to any person in whom he believes that public servant to be interested, for the purpose of \n",
      "inducing that public servant to do any act, or to forbear or delay to do any act, connected with the exercise \n",
      "of the public functions of such public servant, shall be punished with imprisonment of either description \n",
      "for a term which may extend to two yea rs, or with fine, or with both.  \n",
      "190. Threat of injury to induce person to refrain from applying for protection to public \n",
      "servant .—Whoever holds out any threat of injury to any person for the purpose of inducing that person to \n",
      "refrain or desist from making a legal application for protection against any injury to any public servant \n",
      "legally empowered as such to give such protection, or to cause such protection to be given, shall be \n",
      "punished with imprisonment of either description for a term which may extend to o ne ye ar, or with fine, \n",
      "or with both.  \n",
      "CHAPTER XI  \n",
      "OF FALSE  EVIDENCEAND  OFFENCES  AGAINST  PUBLIC  JUSTICE  \n",
      "191. Giving false evidence .—Whoever, being legally bound by an oath or by an express provision of \n",
      "law to state the truth, or being bound by law to make a declaration upon any subject, makes any statement \n",
      "which is false, and which he either knows or believes to be false or does not be lieve to be true, is said to \n",
      "give false evidence.  \n",
      "Explanation 1.—A statement is wit hin the meaning of this section, whether it  is made verbally or \n",
      "otherwise.  \n",
      "Explanation 2 .—A false statement as to the belief of the person attesting is within the meaning of this \n",
      "section, and a person may be guilty of giving false evidence by stating that he believes a thing which he \n",
      "does not believe, as well as by stating that he knows a thing which he does not know.  \n",
      "Illustrations  \n",
      "(a) A, in support of a just claim which B has  against Z for one thousand rupees, falsely swears on a trial that he heard Z \n",
      "admit the justice of B's claim. A has given  false evidence.  \n",
      "(b) A, being bound by an oath to state the truth, states that he believes a certain signature to be the handwriting of  Z, when \n",
      "he does not believe it to be the handwriting of Z. Here A states that which he knows to be false, and therefore gives false \n",
      "evidence.  \n",
      "(c) A, knowing the general character of Z's handwriting, states that he believes a certain signature to be the ha ndwriting of \n",
      "Z; A in good faith believing it to be so. Here A's statement is merely as to his belief, and is true as to his belief, and th erefore, \n",
      "although the signature may not be the handwriting of Z, A has not given false evidence.  \n",
      "(d) A, being bound by  an oath to state the truth, states that he knows that Z was at a particular place on a particular day, not \n",
      "knowing anything upon the subject. A gives false evidence whether Z was at that  place on the day named or not.  \n",
      "(e) A, an interpreter or translator, gives or certifies as a true interpretation or translat ion of a statement or document which\n",
      "\n",
      "\n",
      "Question: rioting has happened in neighbouring society. who will be responsible and what is the punishment for it  including section number and all related details.\n",
      "Answer:\u001b[0m\n",
      "\n",
      "\u001b[1m> Finished chain.\u001b[0m\n",
      "\n",
      "\u001b[1m> Finished chain.\u001b[0m\n",
      "Document './tmp/2024-01-28_21_17_04.docx' generated successfully.\n"
     ]
    }
   ],
   "source": [
    "# q=\"what is the punishment for robbery ?\"\n",
    "# q=\"who is judge ?\"\n",
    "# q=\"one person has commited defamation, what should be punishment for it?\"\n",
    "q=\"rioting has happened in neighbouring society. who will be responsible and what is the punishment for it\"\n",
    "# q=\"what is punishment for robbery and also murder ?\"\n",
    "# q=\"what are the rights of tenant and landlord ?\"\n",
    "# q=\"what is biscuit ?\"\n",
    "# q=\"person is selling adulterated drugs which is harmful to the health of people. person has also sold drug to the children below age of 15 what will be punishment for it?\"\n",
    "# q+=\" with section number. add all details.\"\n",
    "# q+=\" including section number and all related details.\"\n",
    "response = chain({\"query\":q, \"early_stopping\":True,\"min_length\":2000,\"max_tokens\":5000})\n",
    "# print(response)\n",
    "from write_in_file import generate_docx_with_bullets\n",
    "# from data_extracter import extract_data_from_response\n",
    "# result,src_data,src_pg_nms=extract_data_from_response(response)\n",
    "# generate_docx_with_bullets(heading=q,main_paragraph=response[\"result\"],srcs=src_pg_nms,output_folder=\"./tmp/\")\n",
    "generate_docx_with_bullets(heading=q,main_paragraph=response[\"result\"],output_folder=\"./tmp/\")"
   ]
  },
  {
   "cell_type": "code",
   "execution_count": null,
   "metadata": {},
   "outputs": [],
   "source": []
  },
  {
   "cell_type": "code",
   "execution_count": 11,
   "metadata": {},
   "outputs": [],
   "source": [
    "# def write_in_notepad(response):\n",
    "#     from write_in_file import open_in_notepad\n",
    "#     open_in_notepad(response[\"result\"])\n",
    "\n",
    "\n"
   ]
  }
 ],
 "metadata": {
  "kernelspec": {
   "display_name": "venv",
   "language": "python",
   "name": "python3"
  },
  "language_info": {
   "codemirror_mode": {
    "name": "ipython",
    "version": 3
   },
   "file_extension": ".py",
   "mimetype": "text/x-python",
   "name": "python",
   "nbconvert_exporter": "python",
   "pygments_lexer": "ipython3",
   "version": "3.9.13"
  }
 },
 "nbformat": 4,
 "nbformat_minor": 2
}
